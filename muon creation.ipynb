{
 "cells": [
  {
   "cell_type": "code",
   "execution_count": 13,
   "metadata": {},
   "outputs": [],
   "source": [
    "import numpy as np\n",
    "import matplotlib.pyplot as plt\n",
    "import random as random"
   ]
  },
  {
   "cell_type": "code",
   "execution_count": 18,
   "metadata": {},
   "outputs": [],
   "source": [
    "alpha = 1/4*np.pi\n",
    "\n",
    "#prob of any muon production from collision\n",
    "#CME is the center of mass energy, in ours it should be 1.3**13 (13Tev)\n",
    "#N is number of collisions\n",
    "def muon_prod_sigma(CME, N, oclist):\n",
    "    muon = []\n",
    "    bounce = []\n",
    "    for i in range(N):\n",
    "        rand_val = random.random()\n",
    "        if rand_val <= (4*np.pi*alpha**2)/(3*CME):\n",
    "            muon.append(i)\n",
    "        else:\n",
    "            bounce.append(i)\n",
    "    #ends with addition to list of success at different energies\n",
    "    oclist.append(len(muon)/N)"
   ]
  },
  {
   "cell_type": "code",
   "execution_count": 19,
   "metadata": {},
   "outputs": [
    {
     "name": "stdout",
     "output_type": "stream",
     "text": [
      "[1.0, 0.517, 0.246, 0.053, 0.026]\n"
     ]
    }
   ],
   "source": [
    "#little code test- seems to make sense\n",
    "#s_vals is in GeV (10**9 ev or .001Tev)\n",
    "#13Tev is 13,000 Gev\n",
    "N = 1000\n",
    "s_vals = [1, 5, 10, 50, 100]\n",
    "occurences = []\n",
    "for j in range(len(s_vals)):\n",
    "    muon_prod_sigma(s_vals[j], N, occurences)\n",
    "print(occurences)"
   ]
  },
  {
   "cell_type": "code",
   "execution_count": 20,
   "metadata": {},
   "outputs": [
    {
     "name": "stdout",
     "output_type": "stream",
     "text": [
      "[0.0237, 0.0214, 0.0194, 0.0151, 0.0127, 0.0108, 0.0082, 0.0085, 0.0058, 0.0058, 0.0049, 0.0056, 0.0036, 0.0035, 0.0019]\n"
     ]
    },
    {
     "data": {
      "text/plain": [
       "<function matplotlib.pyplot.show(close=None, block=None)>"
      ]
     },
     "execution_count": 20,
     "metadata": {},
     "output_type": "execute_result"
    },
    {
     "data": {
      "image/png": "[encoded data removed]",
      "text/plain": [
       "<Figure size 432x288 with 1 Axes>"
      ]
     },
     "metadata": {
      "needs_background": "light"
     },
     "output_type": "display_data"
    }
   ],
   "source": [
    "#bigger test with 1000 collisions and energy from 100-1000 gev\n",
    "N = 10**4\n",
    "s_vals = np.logspace(2, 3, 15)\n",
    "occurences = []\n",
    "for j in range(len(s_vals)):\n",
    "    muon_prod_sigma(s_vals[j], N, occurences)\n",
    "print(occurences)\n",
    "\n",
    "#plot line of expected cross section value\n",
    "x = np.array(np.logspace(2, 3, 15))\n",
    "y = (4*np.pi*alpha**2)/(3*x)\n",
    "plt.plot(x, y)\n",
    "\n",
    "#plot actual values from random test done earlier\n",
    "plt.scatter(s_vals, occurences)\n",
    "plt.show\n"
   ]
  },
  {
   "cell_type": "code",
   "execution_count": 31,
   "metadata": {},
   "outputs": [
    {
     "name": "stdout",
     "output_type": "stream",
     "text": [
      "[0.0268, 0.0032, 0.0013, 0.0017, 0.0011, 0.0011, 0.0005, 0.0007, 0.0011, 0.0005, 0.0007, 0.0002, 0.0004, 0.0004, 0.0004, 0.0004, 0.0007, 0.0, 0.0001, 0.0004, 0.0003, 0.0003, 0.0004, 0.0003, 0.0003, 0.0002, 0.0001, 0.0]\n",
      "[0.0252, 0.0035, 0.0036, 0.0015, 0.0015, 0.0007, 0.0011, 0.0005, 0.0005, 0.0007, 0.0005, 0.0006, 0.0004, 0.0005, 0.0001, 0.0005, 0.0005, 0.0007, 0.0002, 0.0, 0.0, 0.0002, 0.0002, 0.0, 0.0002, 0.0005, 0.0, 0.0]\n",
      "[0.0259, 0.0041, 0.0017, 0.0014, 0.0012, 0.0009, 0.0015, 0.0006, 0.0006, 0.0005, 0.0006, 0.0007, 0.0007, 0.0006, 0.0001, 0.0004, 0.0004, 0.0003, 0.0003, 0.0002, 0.0005, 0.0003, 0.0004, 0.0001, 0.0004, 0.0004, 0.0002, 0.0004]\n"
     ]
    },
    {
     "data": {
      "text/plain": [
       "<function matplotlib.pyplot.show(close=None, block=None)>"
      ]
     },
     "execution_count": 31,
     "metadata": {},
     "output_type": "execute_result"
    },
    {
     "data": {
      "image/png": "[encoded data removed]",
      "text/plain": [
       "<Figure size 720x288 with 1 Axes>"
      ]
     },
     "metadata": {
      "needs_background": "light"
     },
     "output_type": "display_data"
    }
   ],
   "source": [
    "N = 10000\n",
    "s_vals = range(100, 14100, 500)\n",
    "occurences1 = []\n",
    "for j in range(len(s_vals)):\n",
    "    muon_prod_sigma(s_vals[j], N, occurences1)\n",
    "print(occurences1)\n",
    "\n",
    "occurences2 = []\n",
    "for j in range(len(s_vals)):\n",
    "    muon_prod_sigma(s_vals[j], N, occurences2)\n",
    "print(occurences2)\n",
    "\n",
    "occurences3 = []\n",
    "for j in range(len(s_vals)):\n",
    "    muon_prod_sigma(s_vals[j], N, occurences3)\n",
    "print(occurences3)\n",
    "\n",
    "x = np.array(np.logspace(2, 4.1461280356783, 20))\n",
    "y = (4*np.pi*alpha**2)/(3*x)\n",
    "\n",
    "root_s = np.sqrt(s_vals)\n",
    "\n",
    "plt.figure(figsize=(10, 4))\n",
    "plt.scatter(s_vals, occurences1)\n",
    "plt.scatter(s_vals, occurences2)\n",
    "plt.scatter(s_vals, occurences3)\n",
    "plt.plot(x, y)\n",
    "plt.yscale('log')\n",
    "plt.show"
   ]
  },
  {
   "cell_type": "code",
   "execution_count": null,
   "metadata": {},
   "outputs": [],
   "source": []
  }
 ],
 "metadata": {
  "kernelspec": {
   "display_name": "Python 3",
   "language": "python",
   "name": "python3"
  },
  "language_info": {
   "codemirror_mode": {
    "name": "ipython",
    "version": 3
   },
   "file_extension": ".py",
   "mimetype": "text/x-python",
   "name": "python",
   "nbconvert_exporter": "python",
   "pygments_lexer": "ipython3",
   "version": "3.8.5"
  }
 },
 "nbformat": 4,
 "nbformat_minor": 4
}
